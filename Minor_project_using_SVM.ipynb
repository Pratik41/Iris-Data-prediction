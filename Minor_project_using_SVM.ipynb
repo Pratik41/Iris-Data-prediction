{
  "nbformat": 4,
  "nbformat_minor": 0,
  "metadata": {
    "colab": {
      "name": "Minor project using SVM.ipynb",
      "provenance": []
    },
    "kernelspec": {
      "name": "python3",
      "display_name": "Python 3"
    }
  },
  "cells": [
    {
      "cell_type": "code",
      "metadata": {
        "id": "a7Pykq4vNZEw"
      },
      "source": [
        "import numpy as np\r\n",
        "import matplotlib.pyplot as plt\r\n",
        "import pandas as pd"
      ],
      "execution_count": null,
      "outputs": []
    },
    {
      "cell_type": "code",
      "metadata": {
        "id": "oKN8VedEOxqX"
      },
      "source": [
        "df=pd.read_csv(\"/content/drive/MyDrive/Data Science Minor Project Verzeo /Iris.csv\")"
      ],
      "execution_count": null,
      "outputs": []
    },
    {
      "cell_type": "code",
      "metadata": {
        "colab": {
          "base_uri": "https://localhost:8080/",
          "height": 419
        },
        "id": "SdyUsa7wTkof",
        "outputId": "44d73665-d137-45e1-c201-181698979ae8"
      },
      "source": [
        "df"
      ],
      "execution_count": null,
      "outputs": [
        {
          "output_type": "execute_result",
          "data": {
            "text/html": [
              "<div>\n",
              "<style scoped>\n",
              "    .dataframe tbody tr th:only-of-type {\n",
              "        vertical-align: middle;\n",
              "    }\n",
              "\n",
              "    .dataframe tbody tr th {\n",
              "        vertical-align: top;\n",
              "    }\n",
              "\n",
              "    .dataframe thead th {\n",
              "        text-align: right;\n",
              "    }\n",
              "</style>\n",
              "<table border=\"1\" class=\"dataframe\">\n",
              "  <thead>\n",
              "    <tr style=\"text-align: right;\">\n",
              "      <th></th>\n",
              "      <th>Id</th>\n",
              "      <th>SepalLengthCm</th>\n",
              "      <th>SepalWidthCm</th>\n",
              "      <th>PetalLengthCm</th>\n",
              "      <th>PetalWidthCm</th>\n",
              "      <th>Species</th>\n",
              "    </tr>\n",
              "  </thead>\n",
              "  <tbody>\n",
              "    <tr>\n",
              "      <th>0</th>\n",
              "      <td>1</td>\n",
              "      <td>5.1</td>\n",
              "      <td>3.5</td>\n",
              "      <td>1.4</td>\n",
              "      <td>0.2</td>\n",
              "      <td>Iris-setosa</td>\n",
              "    </tr>\n",
              "    <tr>\n",
              "      <th>1</th>\n",
              "      <td>2</td>\n",
              "      <td>4.9</td>\n",
              "      <td>3.0</td>\n",
              "      <td>1.4</td>\n",
              "      <td>0.2</td>\n",
              "      <td>Iris-setosa</td>\n",
              "    </tr>\n",
              "    <tr>\n",
              "      <th>2</th>\n",
              "      <td>3</td>\n",
              "      <td>4.7</td>\n",
              "      <td>3.2</td>\n",
              "      <td>1.3</td>\n",
              "      <td>0.2</td>\n",
              "      <td>Iris-setosa</td>\n",
              "    </tr>\n",
              "    <tr>\n",
              "      <th>3</th>\n",
              "      <td>4</td>\n",
              "      <td>4.6</td>\n",
              "      <td>3.1</td>\n",
              "      <td>1.5</td>\n",
              "      <td>0.2</td>\n",
              "      <td>Iris-setosa</td>\n",
              "    </tr>\n",
              "    <tr>\n",
              "      <th>4</th>\n",
              "      <td>5</td>\n",
              "      <td>5.0</td>\n",
              "      <td>3.6</td>\n",
              "      <td>1.4</td>\n",
              "      <td>0.2</td>\n",
              "      <td>Iris-setosa</td>\n",
              "    </tr>\n",
              "    <tr>\n",
              "      <th>...</th>\n",
              "      <td>...</td>\n",
              "      <td>...</td>\n",
              "      <td>...</td>\n",
              "      <td>...</td>\n",
              "      <td>...</td>\n",
              "      <td>...</td>\n",
              "    </tr>\n",
              "    <tr>\n",
              "      <th>145</th>\n",
              "      <td>146</td>\n",
              "      <td>6.7</td>\n",
              "      <td>3.0</td>\n",
              "      <td>5.2</td>\n",
              "      <td>2.3</td>\n",
              "      <td>Iris-virginica</td>\n",
              "    </tr>\n",
              "    <tr>\n",
              "      <th>146</th>\n",
              "      <td>147</td>\n",
              "      <td>6.3</td>\n",
              "      <td>2.5</td>\n",
              "      <td>5.0</td>\n",
              "      <td>1.9</td>\n",
              "      <td>Iris-virginica</td>\n",
              "    </tr>\n",
              "    <tr>\n",
              "      <th>147</th>\n",
              "      <td>148</td>\n",
              "      <td>6.5</td>\n",
              "      <td>3.0</td>\n",
              "      <td>5.2</td>\n",
              "      <td>2.0</td>\n",
              "      <td>Iris-virginica</td>\n",
              "    </tr>\n",
              "    <tr>\n",
              "      <th>148</th>\n",
              "      <td>149</td>\n",
              "      <td>6.2</td>\n",
              "      <td>3.4</td>\n",
              "      <td>5.4</td>\n",
              "      <td>2.3</td>\n",
              "      <td>Iris-virginica</td>\n",
              "    </tr>\n",
              "    <tr>\n",
              "      <th>149</th>\n",
              "      <td>150</td>\n",
              "      <td>5.9</td>\n",
              "      <td>3.0</td>\n",
              "      <td>5.1</td>\n",
              "      <td>1.8</td>\n",
              "      <td>Iris-virginica</td>\n",
              "    </tr>\n",
              "  </tbody>\n",
              "</table>\n",
              "<p>150 rows × 6 columns</p>\n",
              "</div>"
            ],
            "text/plain": [
              "      Id  SepalLengthCm  ...  PetalWidthCm         Species\n",
              "0      1            5.1  ...           0.2     Iris-setosa\n",
              "1      2            4.9  ...           0.2     Iris-setosa\n",
              "2      3            4.7  ...           0.2     Iris-setosa\n",
              "3      4            4.6  ...           0.2     Iris-setosa\n",
              "4      5            5.0  ...           0.2     Iris-setosa\n",
              "..   ...            ...  ...           ...             ...\n",
              "145  146            6.7  ...           2.3  Iris-virginica\n",
              "146  147            6.3  ...           1.9  Iris-virginica\n",
              "147  148            6.5  ...           2.0  Iris-virginica\n",
              "148  149            6.2  ...           2.3  Iris-virginica\n",
              "149  150            5.9  ...           1.8  Iris-virginica\n",
              "\n",
              "[150 rows x 6 columns]"
            ]
          },
          "metadata": {
            "tags": []
          },
          "execution_count": 92
        }
      ]
    },
    {
      "cell_type": "code",
      "metadata": {
        "id": "0M4mrlGbTmAR"
      },
      "source": [
        "df=df.drop(columns=\"Id\")"
      ],
      "execution_count": null,
      "outputs": []
    },
    {
      "cell_type": "code",
      "metadata": {
        "colab": {
          "base_uri": "https://localhost:8080/",
          "height": 419
        },
        "id": "rnFFii7TUQCi",
        "outputId": "c2e0962c-7648-4a9a-873b-1c4b9080626a"
      },
      "source": [
        "df"
      ],
      "execution_count": null,
      "outputs": [
        {
          "output_type": "execute_result",
          "data": {
            "text/html": [
              "<div>\n",
              "<style scoped>\n",
              "    .dataframe tbody tr th:only-of-type {\n",
              "        vertical-align: middle;\n",
              "    }\n",
              "\n",
              "    .dataframe tbody tr th {\n",
              "        vertical-align: top;\n",
              "    }\n",
              "\n",
              "    .dataframe thead th {\n",
              "        text-align: right;\n",
              "    }\n",
              "</style>\n",
              "<table border=\"1\" class=\"dataframe\">\n",
              "  <thead>\n",
              "    <tr style=\"text-align: right;\">\n",
              "      <th></th>\n",
              "      <th>SepalLengthCm</th>\n",
              "      <th>SepalWidthCm</th>\n",
              "      <th>PetalLengthCm</th>\n",
              "      <th>PetalWidthCm</th>\n",
              "      <th>Species</th>\n",
              "    </tr>\n",
              "  </thead>\n",
              "  <tbody>\n",
              "    <tr>\n",
              "      <th>0</th>\n",
              "      <td>5.1</td>\n",
              "      <td>3.5</td>\n",
              "      <td>1.4</td>\n",
              "      <td>0.2</td>\n",
              "      <td>Iris-setosa</td>\n",
              "    </tr>\n",
              "    <tr>\n",
              "      <th>1</th>\n",
              "      <td>4.9</td>\n",
              "      <td>3.0</td>\n",
              "      <td>1.4</td>\n",
              "      <td>0.2</td>\n",
              "      <td>Iris-setosa</td>\n",
              "    </tr>\n",
              "    <tr>\n",
              "      <th>2</th>\n",
              "      <td>4.7</td>\n",
              "      <td>3.2</td>\n",
              "      <td>1.3</td>\n",
              "      <td>0.2</td>\n",
              "      <td>Iris-setosa</td>\n",
              "    </tr>\n",
              "    <tr>\n",
              "      <th>3</th>\n",
              "      <td>4.6</td>\n",
              "      <td>3.1</td>\n",
              "      <td>1.5</td>\n",
              "      <td>0.2</td>\n",
              "      <td>Iris-setosa</td>\n",
              "    </tr>\n",
              "    <tr>\n",
              "      <th>4</th>\n",
              "      <td>5.0</td>\n",
              "      <td>3.6</td>\n",
              "      <td>1.4</td>\n",
              "      <td>0.2</td>\n",
              "      <td>Iris-setosa</td>\n",
              "    </tr>\n",
              "    <tr>\n",
              "      <th>...</th>\n",
              "      <td>...</td>\n",
              "      <td>...</td>\n",
              "      <td>...</td>\n",
              "      <td>...</td>\n",
              "      <td>...</td>\n",
              "    </tr>\n",
              "    <tr>\n",
              "      <th>145</th>\n",
              "      <td>6.7</td>\n",
              "      <td>3.0</td>\n",
              "      <td>5.2</td>\n",
              "      <td>2.3</td>\n",
              "      <td>Iris-virginica</td>\n",
              "    </tr>\n",
              "    <tr>\n",
              "      <th>146</th>\n",
              "      <td>6.3</td>\n",
              "      <td>2.5</td>\n",
              "      <td>5.0</td>\n",
              "      <td>1.9</td>\n",
              "      <td>Iris-virginica</td>\n",
              "    </tr>\n",
              "    <tr>\n",
              "      <th>147</th>\n",
              "      <td>6.5</td>\n",
              "      <td>3.0</td>\n",
              "      <td>5.2</td>\n",
              "      <td>2.0</td>\n",
              "      <td>Iris-virginica</td>\n",
              "    </tr>\n",
              "    <tr>\n",
              "      <th>148</th>\n",
              "      <td>6.2</td>\n",
              "      <td>3.4</td>\n",
              "      <td>5.4</td>\n",
              "      <td>2.3</td>\n",
              "      <td>Iris-virginica</td>\n",
              "    </tr>\n",
              "    <tr>\n",
              "      <th>149</th>\n",
              "      <td>5.9</td>\n",
              "      <td>3.0</td>\n",
              "      <td>5.1</td>\n",
              "      <td>1.8</td>\n",
              "      <td>Iris-virginica</td>\n",
              "    </tr>\n",
              "  </tbody>\n",
              "</table>\n",
              "<p>150 rows × 5 columns</p>\n",
              "</div>"
            ],
            "text/plain": [
              "     SepalLengthCm  SepalWidthCm  PetalLengthCm  PetalWidthCm         Species\n",
              "0              5.1           3.5            1.4           0.2     Iris-setosa\n",
              "1              4.9           3.0            1.4           0.2     Iris-setosa\n",
              "2              4.7           3.2            1.3           0.2     Iris-setosa\n",
              "3              4.6           3.1            1.5           0.2     Iris-setosa\n",
              "4              5.0           3.6            1.4           0.2     Iris-setosa\n",
              "..             ...           ...            ...           ...             ...\n",
              "145            6.7           3.0            5.2           2.3  Iris-virginica\n",
              "146            6.3           2.5            5.0           1.9  Iris-virginica\n",
              "147            6.5           3.0            5.2           2.0  Iris-virginica\n",
              "148            6.2           3.4            5.4           2.3  Iris-virginica\n",
              "149            5.9           3.0            5.1           1.8  Iris-virginica\n",
              "\n",
              "[150 rows x 5 columns]"
            ]
          },
          "metadata": {
            "tags": []
          },
          "execution_count": 94
        }
      ]
    },
    {
      "cell_type": "code",
      "metadata": {
        "id": "Cla55umjURAk"
      },
      "source": [
        "x = df.iloc[:, :-1].values.reshape(-1,4)\r\n",
        "y = df.iloc[:, -1].values"
      ],
      "execution_count": null,
      "outputs": []
    },
    {
      "cell_type": "code",
      "metadata": {
        "colab": {
          "base_uri": "https://localhost:8080/"
        },
        "id": "9v4-_qctUXkl",
        "outputId": "f60d943d-94ca-4ce8-f13b-b858b4be8d0d"
      },
      "source": [
        "x"
      ],
      "execution_count": null,
      "outputs": [
        {
          "output_type": "execute_result",
          "data": {
            "text/plain": [
              "array([[5.1, 3.5, 1.4, 0.2],\n",
              "       [4.9, 3. , 1.4, 0.2],\n",
              "       [4.7, 3.2, 1.3, 0.2],\n",
              "       [4.6, 3.1, 1.5, 0.2],\n",
              "       [5. , 3.6, 1.4, 0.2],\n",
              "       [5.4, 3.9, 1.7, 0.4],\n",
              "       [4.6, 3.4, 1.4, 0.3],\n",
              "       [5. , 3.4, 1.5, 0.2],\n",
              "       [4.4, 2.9, 1.4, 0.2],\n",
              "       [4.9, 3.1, 1.5, 0.1],\n",
              "       [5.4, 3.7, 1.5, 0.2],\n",
              "       [4.8, 3.4, 1.6, 0.2],\n",
              "       [4.8, 3. , 1.4, 0.1],\n",
              "       [4.3, 3. , 1.1, 0.1],\n",
              "       [5.8, 4. , 1.2, 0.2],\n",
              "       [5.7, 4.4, 1.5, 0.4],\n",
              "       [5.4, 3.9, 1.3, 0.4],\n",
              "       [5.1, 3.5, 1.4, 0.3],\n",
              "       [5.7, 3.8, 1.7, 0.3],\n",
              "       [5.1, 3.8, 1.5, 0.3],\n",
              "       [5.4, 3.4, 1.7, 0.2],\n",
              "       [5.1, 3.7, 1.5, 0.4],\n",
              "       [4.6, 3.6, 1. , 0.2],\n",
              "       [5.1, 3.3, 1.7, 0.5],\n",
              "       [4.8, 3.4, 1.9, 0.2],\n",
              "       [5. , 3. , 1.6, 0.2],\n",
              "       [5. , 3.4, 1.6, 0.4],\n",
              "       [5.2, 3.5, 1.5, 0.2],\n",
              "       [5.2, 3.4, 1.4, 0.2],\n",
              "       [4.7, 3.2, 1.6, 0.2],\n",
              "       [4.8, 3.1, 1.6, 0.2],\n",
              "       [5.4, 3.4, 1.5, 0.4],\n",
              "       [5.2, 4.1, 1.5, 0.1],\n",
              "       [5.5, 4.2, 1.4, 0.2],\n",
              "       [4.9, 3.1, 1.5, 0.1],\n",
              "       [5. , 3.2, 1.2, 0.2],\n",
              "       [5.5, 3.5, 1.3, 0.2],\n",
              "       [4.9, 3.1, 1.5, 0.1],\n",
              "       [4.4, 3. , 1.3, 0.2],\n",
              "       [5.1, 3.4, 1.5, 0.2],\n",
              "       [5. , 3.5, 1.3, 0.3],\n",
              "       [4.5, 2.3, 1.3, 0.3],\n",
              "       [4.4, 3.2, 1.3, 0.2],\n",
              "       [5. , 3.5, 1.6, 0.6],\n",
              "       [5.1, 3.8, 1.9, 0.4],\n",
              "       [4.8, 3. , 1.4, 0.3],\n",
              "       [5.1, 3.8, 1.6, 0.2],\n",
              "       [4.6, 3.2, 1.4, 0.2],\n",
              "       [5.3, 3.7, 1.5, 0.2],\n",
              "       [5. , 3.3, 1.4, 0.2],\n",
              "       [7. , 3.2, 4.7, 1.4],\n",
              "       [6.4, 3.2, 4.5, 1.5],\n",
              "       [6.9, 3.1, 4.9, 1.5],\n",
              "       [5.5, 2.3, 4. , 1.3],\n",
              "       [6.5, 2.8, 4.6, 1.5],\n",
              "       [5.7, 2.8, 4.5, 1.3],\n",
              "       [6.3, 3.3, 4.7, 1.6],\n",
              "       [4.9, 2.4, 3.3, 1. ],\n",
              "       [6.6, 2.9, 4.6, 1.3],\n",
              "       [5.2, 2.7, 3.9, 1.4],\n",
              "       [5. , 2. , 3.5, 1. ],\n",
              "       [5.9, 3. , 4.2, 1.5],\n",
              "       [6. , 2.2, 4. , 1. ],\n",
              "       [6.1, 2.9, 4.7, 1.4],\n",
              "       [5.6, 2.9, 3.6, 1.3],\n",
              "       [6.7, 3.1, 4.4, 1.4],\n",
              "       [5.6, 3. , 4.5, 1.5],\n",
              "       [5.8, 2.7, 4.1, 1. ],\n",
              "       [6.2, 2.2, 4.5, 1.5],\n",
              "       [5.6, 2.5, 3.9, 1.1],\n",
              "       [5.9, 3.2, 4.8, 1.8],\n",
              "       [6.1, 2.8, 4. , 1.3],\n",
              "       [6.3, 2.5, 4.9, 1.5],\n",
              "       [6.1, 2.8, 4.7, 1.2],\n",
              "       [6.4, 2.9, 4.3, 1.3],\n",
              "       [6.6, 3. , 4.4, 1.4],\n",
              "       [6.8, 2.8, 4.8, 1.4],\n",
              "       [6.7, 3. , 5. , 1.7],\n",
              "       [6. , 2.9, 4.5, 1.5],\n",
              "       [5.7, 2.6, 3.5, 1. ],\n",
              "       [5.5, 2.4, 3.8, 1.1],\n",
              "       [5.5, 2.4, 3.7, 1. ],\n",
              "       [5.8, 2.7, 3.9, 1.2],\n",
              "       [6. , 2.7, 5.1, 1.6],\n",
              "       [5.4, 3. , 4.5, 1.5],\n",
              "       [6. , 3.4, 4.5, 1.6],\n",
              "       [6.7, 3.1, 4.7, 1.5],\n",
              "       [6.3, 2.3, 4.4, 1.3],\n",
              "       [5.6, 3. , 4.1, 1.3],\n",
              "       [5.5, 2.5, 4. , 1.3],\n",
              "       [5.5, 2.6, 4.4, 1.2],\n",
              "       [6.1, 3. , 4.6, 1.4],\n",
              "       [5.8, 2.6, 4. , 1.2],\n",
              "       [5. , 2.3, 3.3, 1. ],\n",
              "       [5.6, 2.7, 4.2, 1.3],\n",
              "       [5.7, 3. , 4.2, 1.2],\n",
              "       [5.7, 2.9, 4.2, 1.3],\n",
              "       [6.2, 2.9, 4.3, 1.3],\n",
              "       [5.1, 2.5, 3. , 1.1],\n",
              "       [5.7, 2.8, 4.1, 1.3],\n",
              "       [6.3, 3.3, 6. , 2.5],\n",
              "       [5.8, 2.7, 5.1, 1.9],\n",
              "       [7.1, 3. , 5.9, 2.1],\n",
              "       [6.3, 2.9, 5.6, 1.8],\n",
              "       [6.5, 3. , 5.8, 2.2],\n",
              "       [7.6, 3. , 6.6, 2.1],\n",
              "       [4.9, 2.5, 4.5, 1.7],\n",
              "       [7.3, 2.9, 6.3, 1.8],\n",
              "       [6.7, 2.5, 5.8, 1.8],\n",
              "       [7.2, 3.6, 6.1, 2.5],\n",
              "       [6.5, 3.2, 5.1, 2. ],\n",
              "       [6.4, 2.7, 5.3, 1.9],\n",
              "       [6.8, 3. , 5.5, 2.1],\n",
              "       [5.7, 2.5, 5. , 2. ],\n",
              "       [5.8, 2.8, 5.1, 2.4],\n",
              "       [6.4, 3.2, 5.3, 2.3],\n",
              "       [6.5, 3. , 5.5, 1.8],\n",
              "       [7.7, 3.8, 6.7, 2.2],\n",
              "       [7.7, 2.6, 6.9, 2.3],\n",
              "       [6. , 2.2, 5. , 1.5],\n",
              "       [6.9, 3.2, 5.7, 2.3],\n",
              "       [5.6, 2.8, 4.9, 2. ],\n",
              "       [7.7, 2.8, 6.7, 2. ],\n",
              "       [6.3, 2.7, 4.9, 1.8],\n",
              "       [6.7, 3.3, 5.7, 2.1],\n",
              "       [7.2, 3.2, 6. , 1.8],\n",
              "       [6.2, 2.8, 4.8, 1.8],\n",
              "       [6.1, 3. , 4.9, 1.8],\n",
              "       [6.4, 2.8, 5.6, 2.1],\n",
              "       [7.2, 3. , 5.8, 1.6],\n",
              "       [7.4, 2.8, 6.1, 1.9],\n",
              "       [7.9, 3.8, 6.4, 2. ],\n",
              "       [6.4, 2.8, 5.6, 2.2],\n",
              "       [6.3, 2.8, 5.1, 1.5],\n",
              "       [6.1, 2.6, 5.6, 1.4],\n",
              "       [7.7, 3. , 6.1, 2.3],\n",
              "       [6.3, 3.4, 5.6, 2.4],\n",
              "       [6.4, 3.1, 5.5, 1.8],\n",
              "       [6. , 3. , 4.8, 1.8],\n",
              "       [6.9, 3.1, 5.4, 2.1],\n",
              "       [6.7, 3.1, 5.6, 2.4],\n",
              "       [6.9, 3.1, 5.1, 2.3],\n",
              "       [5.8, 2.7, 5.1, 1.9],\n",
              "       [6.8, 3.2, 5.9, 2.3],\n",
              "       [6.7, 3.3, 5.7, 2.5],\n",
              "       [6.7, 3. , 5.2, 2.3],\n",
              "       [6.3, 2.5, 5. , 1.9],\n",
              "       [6.5, 3. , 5.2, 2. ],\n",
              "       [6.2, 3.4, 5.4, 2.3],\n",
              "       [5.9, 3. , 5.1, 1.8]])"
            ]
          },
          "metadata": {
            "tags": []
          },
          "execution_count": 96
        }
      ]
    },
    {
      "cell_type": "code",
      "metadata": {
        "colab": {
          "base_uri": "https://localhost:8080/"
        },
        "id": "ut6kg3HHUYmW",
        "outputId": "5f4e7ca9-876c-4fb3-ad5d-e0cf0ce86902"
      },
      "source": [
        "y"
      ],
      "execution_count": null,
      "outputs": [
        {
          "output_type": "execute_result",
          "data": {
            "text/plain": [
              "array(['Iris-setosa', 'Iris-setosa', 'Iris-setosa', 'Iris-setosa',\n",
              "       'Iris-setosa', 'Iris-setosa', 'Iris-setosa', 'Iris-setosa',\n",
              "       'Iris-setosa', 'Iris-setosa', 'Iris-setosa', 'Iris-setosa',\n",
              "       'Iris-setosa', 'Iris-setosa', 'Iris-setosa', 'Iris-setosa',\n",
              "       'Iris-setosa', 'Iris-setosa', 'Iris-setosa', 'Iris-setosa',\n",
              "       'Iris-setosa', 'Iris-setosa', 'Iris-setosa', 'Iris-setosa',\n",
              "       'Iris-setosa', 'Iris-setosa', 'Iris-setosa', 'Iris-setosa',\n",
              "       'Iris-setosa', 'Iris-setosa', 'Iris-setosa', 'Iris-setosa',\n",
              "       'Iris-setosa', 'Iris-setosa', 'Iris-setosa', 'Iris-setosa',\n",
              "       'Iris-setosa', 'Iris-setosa', 'Iris-setosa', 'Iris-setosa',\n",
              "       'Iris-setosa', 'Iris-setosa', 'Iris-setosa', 'Iris-setosa',\n",
              "       'Iris-setosa', 'Iris-setosa', 'Iris-setosa', 'Iris-setosa',\n",
              "       'Iris-setosa', 'Iris-setosa', 'Iris-versicolor', 'Iris-versicolor',\n",
              "       'Iris-versicolor', 'Iris-versicolor', 'Iris-versicolor',\n",
              "       'Iris-versicolor', 'Iris-versicolor', 'Iris-versicolor',\n",
              "       'Iris-versicolor', 'Iris-versicolor', 'Iris-versicolor',\n",
              "       'Iris-versicolor', 'Iris-versicolor', 'Iris-versicolor',\n",
              "       'Iris-versicolor', 'Iris-versicolor', 'Iris-versicolor',\n",
              "       'Iris-versicolor', 'Iris-versicolor', 'Iris-versicolor',\n",
              "       'Iris-versicolor', 'Iris-versicolor', 'Iris-versicolor',\n",
              "       'Iris-versicolor', 'Iris-versicolor', 'Iris-versicolor',\n",
              "       'Iris-versicolor', 'Iris-versicolor', 'Iris-versicolor',\n",
              "       'Iris-versicolor', 'Iris-versicolor', 'Iris-versicolor',\n",
              "       'Iris-versicolor', 'Iris-versicolor', 'Iris-versicolor',\n",
              "       'Iris-versicolor', 'Iris-versicolor', 'Iris-versicolor',\n",
              "       'Iris-versicolor', 'Iris-versicolor', 'Iris-versicolor',\n",
              "       'Iris-versicolor', 'Iris-versicolor', 'Iris-versicolor',\n",
              "       'Iris-versicolor', 'Iris-versicolor', 'Iris-versicolor',\n",
              "       'Iris-versicolor', 'Iris-versicolor', 'Iris-versicolor',\n",
              "       'Iris-virginica', 'Iris-virginica', 'Iris-virginica',\n",
              "       'Iris-virginica', 'Iris-virginica', 'Iris-virginica',\n",
              "       'Iris-virginica', 'Iris-virginica', 'Iris-virginica',\n",
              "       'Iris-virginica', 'Iris-virginica', 'Iris-virginica',\n",
              "       'Iris-virginica', 'Iris-virginica', 'Iris-virginica',\n",
              "       'Iris-virginica', 'Iris-virginica', 'Iris-virginica',\n",
              "       'Iris-virginica', 'Iris-virginica', 'Iris-virginica',\n",
              "       'Iris-virginica', 'Iris-virginica', 'Iris-virginica',\n",
              "       'Iris-virginica', 'Iris-virginica', 'Iris-virginica',\n",
              "       'Iris-virginica', 'Iris-virginica', 'Iris-virginica',\n",
              "       'Iris-virginica', 'Iris-virginica', 'Iris-virginica',\n",
              "       'Iris-virginica', 'Iris-virginica', 'Iris-virginica',\n",
              "       'Iris-virginica', 'Iris-virginica', 'Iris-virginica',\n",
              "       'Iris-virginica', 'Iris-virginica', 'Iris-virginica',\n",
              "       'Iris-virginica', 'Iris-virginica', 'Iris-virginica',\n",
              "       'Iris-virginica', 'Iris-virginica', 'Iris-virginica',\n",
              "       'Iris-virginica', 'Iris-virginica'], dtype=object)"
            ]
          },
          "metadata": {
            "tags": []
          },
          "execution_count": 97
        }
      ]
    },
    {
      "cell_type": "markdown",
      "metadata": {
        "id": "Y1TWWxdHVCC5"
      },
      "source": [
        "## Splitting the dataset into the Training set and Test set"
      ]
    },
    {
      "cell_type": "code",
      "metadata": {
        "id": "acj7H9iTU5NC"
      },
      "source": [
        "from sklearn.model_selection import train_test_split\r\n",
        "x_train, x_test, y_train, y_test = train_test_split(x, y, test_size = 0.20, random_state = 0)"
      ],
      "execution_count": null,
      "outputs": []
    },
    {
      "cell_type": "code",
      "metadata": {
        "colab": {
          "base_uri": "https://localhost:8080/"
        },
        "id": "A2c3O1a6VHGb",
        "outputId": "64398afc-83d6-4503-eb53-8f1965da63be"
      },
      "source": [
        "x_train"
      ],
      "execution_count": null,
      "outputs": [
        {
          "output_type": "execute_result",
          "data": {
            "text/plain": [
              "array([[6.4, 3.1, 5.5, 1.8],\n",
              "       [5.4, 3. , 4.5, 1.5],\n",
              "       [5.2, 3.5, 1.5, 0.2],\n",
              "       [6.1, 3. , 4.9, 1.8],\n",
              "       [6.4, 2.8, 5.6, 2.2],\n",
              "       [5.2, 2.7, 3.9, 1.4],\n",
              "       [5.7, 3.8, 1.7, 0.3],\n",
              "       [6. , 2.7, 5.1, 1.6],\n",
              "       [5.9, 3. , 4.2, 1.5],\n",
              "       [5.8, 2.6, 4. , 1.2],\n",
              "       [6.8, 3. , 5.5, 2.1],\n",
              "       [4.7, 3.2, 1.3, 0.2],\n",
              "       [6.9, 3.1, 5.1, 2.3],\n",
              "       [5. , 3.5, 1.6, 0.6],\n",
              "       [5.4, 3.7, 1.5, 0.2],\n",
              "       [5. , 2. , 3.5, 1. ],\n",
              "       [6.5, 3. , 5.5, 1.8],\n",
              "       [6.7, 3.3, 5.7, 2.5],\n",
              "       [6. , 2.2, 5. , 1.5],\n",
              "       [6.7, 2.5, 5.8, 1.8],\n",
              "       [5.6, 2.5, 3.9, 1.1],\n",
              "       [7.7, 3. , 6.1, 2.3],\n",
              "       [6.3, 3.3, 4.7, 1.6],\n",
              "       [5.5, 2.4, 3.8, 1.1],\n",
              "       [6.3, 2.7, 4.9, 1.8],\n",
              "       [6.3, 2.8, 5.1, 1.5],\n",
              "       [4.9, 2.5, 4.5, 1.7],\n",
              "       [6.3, 2.5, 5. , 1.9],\n",
              "       [7. , 3.2, 4.7, 1.4],\n",
              "       [6.5, 3. , 5.2, 2. ],\n",
              "       [6. , 3.4, 4.5, 1.6],\n",
              "       [4.8, 3.1, 1.6, 0.2],\n",
              "       [5.8, 2.7, 5.1, 1.9],\n",
              "       [5.6, 2.7, 4.2, 1.3],\n",
              "       [5.6, 2.9, 3.6, 1.3],\n",
              "       [5.5, 2.5, 4. , 1.3],\n",
              "       [6.1, 3. , 4.6, 1.4],\n",
              "       [7.2, 3.2, 6. , 1.8],\n",
              "       [5.3, 3.7, 1.5, 0.2],\n",
              "       [4.3, 3. , 1.1, 0.1],\n",
              "       [6.4, 2.7, 5.3, 1.9],\n",
              "       [5.7, 3. , 4.2, 1.2],\n",
              "       [5.4, 3.4, 1.7, 0.2],\n",
              "       [5.7, 4.4, 1.5, 0.4],\n",
              "       [6.9, 3.1, 4.9, 1.5],\n",
              "       [4.6, 3.1, 1.5, 0.2],\n",
              "       [5.9, 3. , 5.1, 1.8],\n",
              "       [5.1, 2.5, 3. , 1.1],\n",
              "       [4.6, 3.4, 1.4, 0.3],\n",
              "       [6.2, 2.2, 4.5, 1.5],\n",
              "       [7.2, 3.6, 6.1, 2.5],\n",
              "       [5.7, 2.9, 4.2, 1.3],\n",
              "       [4.8, 3. , 1.4, 0.1],\n",
              "       [7.1, 3. , 5.9, 2.1],\n",
              "       [6.9, 3.2, 5.7, 2.3],\n",
              "       [6.5, 3. , 5.8, 2.2],\n",
              "       [6.4, 2.8, 5.6, 2.1],\n",
              "       [5.1, 3.8, 1.6, 0.2],\n",
              "       [4.8, 3.4, 1.6, 0.2],\n",
              "       [6.5, 3.2, 5.1, 2. ],\n",
              "       [6.7, 3.3, 5.7, 2.1],\n",
              "       [4.5, 2.3, 1.3, 0.3],\n",
              "       [6.2, 3.4, 5.4, 2.3],\n",
              "       [4.9, 3. , 1.4, 0.2],\n",
              "       [5.7, 2.5, 5. , 2. ],\n",
              "       [6.9, 3.1, 5.4, 2.1],\n",
              "       [4.4, 3.2, 1.3, 0.2],\n",
              "       [5. , 3.6, 1.4, 0.2],\n",
              "       [7.2, 3. , 5.8, 1.6],\n",
              "       [5.1, 3.5, 1.4, 0.3],\n",
              "       [4.4, 3. , 1.3, 0.2],\n",
              "       [5.4, 3.9, 1.7, 0.4],\n",
              "       [5.5, 2.3, 4. , 1.3],\n",
              "       [6.8, 3.2, 5.9, 2.3],\n",
              "       [7.6, 3. , 6.6, 2.1],\n",
              "       [5.1, 3.5, 1.4, 0.2],\n",
              "       [4.9, 3.1, 1.5, 0.1],\n",
              "       [5.2, 3.4, 1.4, 0.2],\n",
              "       [5.7, 2.8, 4.5, 1.3],\n",
              "       [6.6, 3. , 4.4, 1.4],\n",
              "       [5. , 3.2, 1.2, 0.2],\n",
              "       [5.1, 3.3, 1.7, 0.5],\n",
              "       [6.4, 2.9, 4.3, 1.3],\n",
              "       [5.4, 3.4, 1.5, 0.4],\n",
              "       [7.7, 2.6, 6.9, 2.3],\n",
              "       [4.9, 2.4, 3.3, 1. ],\n",
              "       [7.9, 3.8, 6.4, 2. ],\n",
              "       [6.7, 3.1, 4.4, 1.4],\n",
              "       [5.2, 4.1, 1.5, 0.1],\n",
              "       [6. , 3. , 4.8, 1.8],\n",
              "       [5.8, 4. , 1.2, 0.2],\n",
              "       [7.7, 2.8, 6.7, 2. ],\n",
              "       [5.1, 3.8, 1.5, 0.3],\n",
              "       [4.7, 3.2, 1.6, 0.2],\n",
              "       [7.4, 2.8, 6.1, 1.9],\n",
              "       [5. , 3.3, 1.4, 0.2],\n",
              "       [6.3, 3.4, 5.6, 2.4],\n",
              "       [5.7, 2.8, 4.1, 1.3],\n",
              "       [5.8, 2.7, 3.9, 1.2],\n",
              "       [5.7, 2.6, 3.5, 1. ],\n",
              "       [6.4, 3.2, 5.3, 2.3],\n",
              "       [6.7, 3. , 5.2, 2.3],\n",
              "       [6.3, 2.5, 4.9, 1.5],\n",
              "       [6.7, 3. , 5. , 1.7],\n",
              "       [5. , 3. , 1.6, 0.2],\n",
              "       [5.5, 2.4, 3.7, 1. ],\n",
              "       [6.7, 3.1, 5.6, 2.4],\n",
              "       [5.8, 2.7, 5.1, 1.9],\n",
              "       [5.1, 3.4, 1.5, 0.2],\n",
              "       [6.6, 2.9, 4.6, 1.3],\n",
              "       [5.6, 3. , 4.1, 1.3],\n",
              "       [5.9, 3.2, 4.8, 1.8],\n",
              "       [6.3, 2.3, 4.4, 1.3],\n",
              "       [5.5, 3.5, 1.3, 0.2],\n",
              "       [5.1, 3.7, 1.5, 0.4],\n",
              "       [4.9, 3.1, 1.5, 0.1],\n",
              "       [6.3, 2.9, 5.6, 1.8],\n",
              "       [5.8, 2.7, 4.1, 1. ],\n",
              "       [7.7, 3.8, 6.7, 2.2],\n",
              "       [4.6, 3.2, 1.4, 0.2]])"
            ]
          },
          "metadata": {
            "tags": []
          },
          "execution_count": 99
        }
      ]
    },
    {
      "cell_type": "code",
      "metadata": {
        "colab": {
          "base_uri": "https://localhost:8080/"
        },
        "id": "Ch3v_fmEVUhm",
        "outputId": "65456200-0062-4df6-b07e-e38bafbb672e"
      },
      "source": [
        "x_test"
      ],
      "execution_count": null,
      "outputs": [
        {
          "output_type": "execute_result",
          "data": {
            "text/plain": [
              "array([[5.8, 2.8, 5.1, 2.4],\n",
              "       [6. , 2.2, 4. , 1. ],\n",
              "       [5.5, 4.2, 1.4, 0.2],\n",
              "       [7.3, 2.9, 6.3, 1.8],\n",
              "       [5. , 3.4, 1.5, 0.2],\n",
              "       [6.3, 3.3, 6. , 2.5],\n",
              "       [5. , 3.5, 1.3, 0.3],\n",
              "       [6.7, 3.1, 4.7, 1.5],\n",
              "       [6.8, 2.8, 4.8, 1.4],\n",
              "       [6.1, 2.8, 4. , 1.3],\n",
              "       [6.1, 2.6, 5.6, 1.4],\n",
              "       [6.4, 3.2, 4.5, 1.5],\n",
              "       [6.1, 2.8, 4.7, 1.2],\n",
              "       [6.5, 2.8, 4.6, 1.5],\n",
              "       [6.1, 2.9, 4.7, 1.4],\n",
              "       [4.9, 3.1, 1.5, 0.1],\n",
              "       [6. , 2.9, 4.5, 1.5],\n",
              "       [5.5, 2.6, 4.4, 1.2],\n",
              "       [4.8, 3. , 1.4, 0.3],\n",
              "       [5.4, 3.9, 1.3, 0.4],\n",
              "       [5.6, 2.8, 4.9, 2. ],\n",
              "       [5.6, 3. , 4.5, 1.5],\n",
              "       [4.8, 3.4, 1.9, 0.2],\n",
              "       [4.4, 2.9, 1.4, 0.2],\n",
              "       [6.2, 2.8, 4.8, 1.8],\n",
              "       [4.6, 3.6, 1. , 0.2],\n",
              "       [5.1, 3.8, 1.9, 0.4],\n",
              "       [6.2, 2.9, 4.3, 1.3],\n",
              "       [5. , 2.3, 3.3, 1. ],\n",
              "       [5. , 3.4, 1.6, 0.4]])"
            ]
          },
          "metadata": {
            "tags": []
          },
          "execution_count": 100
        }
      ]
    },
    {
      "cell_type": "code",
      "metadata": {
        "colab": {
          "base_uri": "https://localhost:8080/"
        },
        "id": "Jj1hr-OgVaW4",
        "outputId": "9925d9b3-32e7-408f-8d21-c3cc429929b7"
      },
      "source": [
        "y_train"
      ],
      "execution_count": null,
      "outputs": [
        {
          "output_type": "execute_result",
          "data": {
            "text/plain": [
              "array(['Iris-virginica', 'Iris-versicolor', 'Iris-setosa',\n",
              "       'Iris-virginica', 'Iris-virginica', 'Iris-versicolor',\n",
              "       'Iris-setosa', 'Iris-versicolor', 'Iris-versicolor',\n",
              "       'Iris-versicolor', 'Iris-virginica', 'Iris-setosa',\n",
              "       'Iris-virginica', 'Iris-setosa', 'Iris-setosa', 'Iris-versicolor',\n",
              "       'Iris-virginica', 'Iris-virginica', 'Iris-virginica',\n",
              "       'Iris-virginica', 'Iris-versicolor', 'Iris-virginica',\n",
              "       'Iris-versicolor', 'Iris-versicolor', 'Iris-virginica',\n",
              "       'Iris-virginica', 'Iris-virginica', 'Iris-virginica',\n",
              "       'Iris-versicolor', 'Iris-virginica', 'Iris-versicolor',\n",
              "       'Iris-setosa', 'Iris-virginica', 'Iris-versicolor',\n",
              "       'Iris-versicolor', 'Iris-versicolor', 'Iris-versicolor',\n",
              "       'Iris-virginica', 'Iris-setosa', 'Iris-setosa', 'Iris-virginica',\n",
              "       'Iris-versicolor', 'Iris-setosa', 'Iris-setosa', 'Iris-versicolor',\n",
              "       'Iris-setosa', 'Iris-virginica', 'Iris-versicolor', 'Iris-setosa',\n",
              "       'Iris-versicolor', 'Iris-virginica', 'Iris-versicolor',\n",
              "       'Iris-setosa', 'Iris-virginica', 'Iris-virginica',\n",
              "       'Iris-virginica', 'Iris-virginica', 'Iris-setosa', 'Iris-setosa',\n",
              "       'Iris-virginica', 'Iris-virginica', 'Iris-setosa',\n",
              "       'Iris-virginica', 'Iris-setosa', 'Iris-virginica',\n",
              "       'Iris-virginica', 'Iris-setosa', 'Iris-setosa', 'Iris-virginica',\n",
              "       'Iris-setosa', 'Iris-setosa', 'Iris-setosa', 'Iris-versicolor',\n",
              "       'Iris-virginica', 'Iris-virginica', 'Iris-setosa', 'Iris-setosa',\n",
              "       'Iris-setosa', 'Iris-versicolor', 'Iris-versicolor', 'Iris-setosa',\n",
              "       'Iris-setosa', 'Iris-versicolor', 'Iris-setosa', 'Iris-virginica',\n",
              "       'Iris-versicolor', 'Iris-virginica', 'Iris-versicolor',\n",
              "       'Iris-setosa', 'Iris-virginica', 'Iris-setosa', 'Iris-virginica',\n",
              "       'Iris-setosa', 'Iris-setosa', 'Iris-virginica', 'Iris-setosa',\n",
              "       'Iris-virginica', 'Iris-versicolor', 'Iris-versicolor',\n",
              "       'Iris-versicolor', 'Iris-virginica', 'Iris-virginica',\n",
              "       'Iris-versicolor', 'Iris-versicolor', 'Iris-setosa',\n",
              "       'Iris-versicolor', 'Iris-virginica', 'Iris-virginica',\n",
              "       'Iris-setosa', 'Iris-versicolor', 'Iris-versicolor',\n",
              "       'Iris-versicolor', 'Iris-versicolor', 'Iris-setosa', 'Iris-setosa',\n",
              "       'Iris-setosa', 'Iris-virginica', 'Iris-versicolor',\n",
              "       'Iris-virginica', 'Iris-setosa'], dtype=object)"
            ]
          },
          "metadata": {
            "tags": []
          },
          "execution_count": 101
        }
      ]
    },
    {
      "cell_type": "code",
      "metadata": {
        "colab": {
          "base_uri": "https://localhost:8080/"
        },
        "id": "OEcveo3sVcZ0",
        "outputId": "fc051b93-9d0b-42b7-d4b2-0d9643bffa25"
      },
      "source": [
        "y_test"
      ],
      "execution_count": null,
      "outputs": [
        {
          "output_type": "execute_result",
          "data": {
            "text/plain": [
              "array(['Iris-virginica', 'Iris-versicolor', 'Iris-setosa',\n",
              "       'Iris-virginica', 'Iris-setosa', 'Iris-virginica', 'Iris-setosa',\n",
              "       'Iris-versicolor', 'Iris-versicolor', 'Iris-versicolor',\n",
              "       'Iris-virginica', 'Iris-versicolor', 'Iris-versicolor',\n",
              "       'Iris-versicolor', 'Iris-versicolor', 'Iris-setosa',\n",
              "       'Iris-versicolor', 'Iris-versicolor', 'Iris-setosa', 'Iris-setosa',\n",
              "       'Iris-virginica', 'Iris-versicolor', 'Iris-setosa', 'Iris-setosa',\n",
              "       'Iris-virginica', 'Iris-setosa', 'Iris-setosa', 'Iris-versicolor',\n",
              "       'Iris-versicolor', 'Iris-setosa'], dtype=object)"
            ]
          },
          "metadata": {
            "tags": []
          },
          "execution_count": 102
        }
      ]
    },
    {
      "cell_type": "markdown",
      "metadata": {
        "id": "_zjfAeIJXfKW"
      },
      "source": [
        "## Feature Scaling"
      ]
    },
    {
      "cell_type": "code",
      "metadata": {
        "id": "vocHOTuAXd3_"
      },
      "source": [
        "from sklearn.preprocessing import StandardScaler\r\n",
        "sc = StandardScaler()\r\n",
        "x_train = sc.fit_transform(x_train)\r\n",
        "x_test = sc.transform(x_test)"
      ],
      "execution_count": null,
      "outputs": []
    },
    {
      "cell_type": "code",
      "metadata": {
        "colab": {
          "base_uri": "https://localhost:8080/"
        },
        "id": "fyUAMNe6XtaF",
        "outputId": "a22e18c4-8815-457f-8b29-d282b24a6397"
      },
      "source": [
        "x_train"
      ],
      "execution_count": null,
      "outputs": [
        {
          "output_type": "execute_result",
          "data": {
            "text/plain": [
              "array([[ 0.61303014,  0.10850105,  0.94751783,  0.73603967],\n",
              "       [-0.56776627, -0.12400121,  0.38491447,  0.34808318],\n",
              "       [-0.80392556,  1.03851009, -1.30289562, -1.3330616 ],\n",
              "       [ 0.25879121, -0.12400121,  0.60995581,  0.73603967],\n",
              "       [ 0.61303014, -0.58900572,  1.00377816,  1.25331499],\n",
              "       [-0.80392556, -0.82150798,  0.04735245,  0.21876435],\n",
              "       [-0.21352735,  1.73601687, -1.19037495, -1.20374277],\n",
              "       [ 0.14071157, -0.82150798,  0.72247648,  0.47740201],\n",
              "       [ 0.02263193, -0.12400121,  0.21613346,  0.34808318],\n",
              "       [-0.09544771, -1.05401024,  0.10361279, -0.03987331],\n",
              "       [ 1.0853487 , -0.12400121,  0.94751783,  1.12399616],\n",
              "       [-1.39432376,  0.34100331, -1.41541629, -1.3330616 ],\n",
              "       [ 1.20342834,  0.10850105,  0.72247648,  1.38263382],\n",
              "       [-1.04008484,  1.03851009, -1.24663528, -0.81578628],\n",
              "       [-0.56776627,  1.50351461, -1.30289562, -1.3330616 ],\n",
              "       [-1.04008484, -2.4490238 , -0.1776889 , -0.29851096],\n",
              "       [ 0.73110978, -0.12400121,  0.94751783,  0.73603967],\n",
              "       [ 0.96726906,  0.57350557,  1.0600385 ,  1.64127148],\n",
              "       [ 0.14071157, -1.98401928,  0.66621615,  0.34808318],\n",
              "       [ 0.96726906, -1.2865125 ,  1.11629884,  0.73603967],\n",
              "       [-0.33160699, -1.2865125 ,  0.04735245, -0.16919214],\n",
              "       [ 2.14806547, -0.12400121,  1.28507985,  1.38263382],\n",
              "       [ 0.49495049,  0.57350557,  0.49743514,  0.47740201],\n",
              "       [-0.44968663, -1.51901476, -0.00890789, -0.16919214],\n",
              "       [ 0.49495049, -0.82150798,  0.60995581,  0.73603967],\n",
              "       [ 0.49495049, -0.58900572,  0.72247648,  0.34808318],\n",
              "       [-1.15816448, -1.2865125 ,  0.38491447,  0.60672084],\n",
              "       [ 0.49495049, -1.2865125 ,  0.66621615,  0.8653585 ],\n",
              "       [ 1.32150798,  0.34100331,  0.49743514,  0.21876435],\n",
              "       [ 0.73110978, -0.12400121,  0.77873682,  0.99467733],\n",
              "       [ 0.14071157,  0.80600783,  0.38491447,  0.47740201],\n",
              "       [-1.27624412,  0.10850105, -1.24663528, -1.3330616 ],\n",
              "       [-0.09544771, -0.82150798,  0.72247648,  0.8653585 ],\n",
              "       [-0.33160699, -0.82150798,  0.21613346,  0.08944552],\n",
              "       [-0.33160699, -0.35650346, -0.12142856,  0.08944552],\n",
              "       [-0.44968663, -1.2865125 ,  0.10361279,  0.08944552],\n",
              "       [ 0.25879121, -0.12400121,  0.4411748 ,  0.21876435],\n",
              "       [ 1.55766726,  0.34100331,  1.22881951,  0.73603967],\n",
              "       [-0.68584591,  1.50351461, -1.30289562, -1.3330616 ],\n",
              "       [-1.86664232, -0.12400121, -1.52793696, -1.46238043],\n",
              "       [ 0.61303014, -0.82150798,  0.83499716,  0.8653585 ],\n",
              "       [-0.21352735, -0.12400121,  0.21613346, -0.03987331],\n",
              "       [-0.56776627,  0.80600783, -1.19037495, -1.3330616 ],\n",
              "       [-0.21352735,  3.13103043, -1.30289562, -1.07442394],\n",
              "       [ 1.20342834,  0.10850105,  0.60995581,  0.34808318],\n",
              "       [-1.5124034 ,  0.10850105, -1.30289562, -1.3330616 ],\n",
              "       [ 0.02263193, -0.12400121,  0.72247648,  0.73603967],\n",
              "       [-0.9220052 , -1.2865125 , -0.45899058, -0.16919214],\n",
              "       [-1.5124034 ,  0.80600783, -1.35915595, -1.20374277],\n",
              "       [ 0.37687085, -1.98401928,  0.38491447,  0.34808318],\n",
              "       [ 1.55766726,  1.27101235,  1.28507985,  1.64127148],\n",
              "       [-0.21352735, -0.35650346,  0.21613346,  0.08944552],\n",
              "       [-1.27624412, -0.12400121, -1.35915595, -1.46238043],\n",
              "       [ 1.43958762, -0.12400121,  1.17255917,  1.12399616],\n",
              "       [ 1.20342834,  0.34100331,  1.0600385 ,  1.38263382],\n",
              "       [ 0.73110978, -0.12400121,  1.11629884,  1.25331499],\n",
              "       [ 0.61303014, -0.58900572,  1.00377816,  1.12399616],\n",
              "       [-0.9220052 ,  1.73601687, -1.24663528, -1.3330616 ],\n",
              "       [-1.27624412,  0.80600783, -1.24663528, -1.3330616 ],\n",
              "       [ 0.73110978,  0.34100331,  0.72247648,  0.99467733],\n",
              "       [ 0.96726906,  0.57350557,  1.0600385 ,  1.12399616],\n",
              "       [-1.63048304, -1.75151702, -1.41541629, -1.20374277],\n",
              "       [ 0.37687085,  0.80600783,  0.89125749,  1.38263382],\n",
              "       [-1.15816448, -0.12400121, -1.35915595, -1.3330616 ],\n",
              "       [-0.21352735, -1.2865125 ,  0.66621615,  0.99467733],\n",
              "       [ 1.20342834,  0.10850105,  0.89125749,  1.12399616],\n",
              "       [-1.74856268,  0.34100331, -1.41541629, -1.3330616 ],\n",
              "       [-1.04008484,  1.27101235, -1.35915595, -1.3330616 ],\n",
              "       [ 1.55766726, -0.12400121,  1.11629884,  0.47740201],\n",
              "       [-0.9220052 ,  1.03851009, -1.35915595, -1.20374277],\n",
              "       [-1.74856268, -0.12400121, -1.41541629, -1.3330616 ],\n",
              "       [-0.56776627,  1.96851913, -1.19037495, -1.07442394],\n",
              "       [-0.44968663, -1.75151702,  0.10361279,  0.08944552],\n",
              "       [ 1.0853487 ,  0.34100331,  1.17255917,  1.38263382],\n",
              "       [ 2.02998583, -0.12400121,  1.56638153,  1.12399616],\n",
              "       [-0.9220052 ,  1.03851009, -1.35915595, -1.3330616 ],\n",
              "       [-1.15816448,  0.10850105, -1.30289562, -1.46238043],\n",
              "       [-0.80392556,  0.80600783, -1.35915595, -1.3330616 ],\n",
              "       [-0.21352735, -0.58900572,  0.38491447,  0.08944552],\n",
              "       [ 0.84918942, -0.12400121,  0.32865413,  0.21876435],\n",
              "       [-1.04008484,  0.34100331, -1.47167663, -1.3330616 ],\n",
              "       [-0.9220052 ,  0.57350557, -1.19037495, -0.94510511],\n",
              "       [ 0.61303014, -0.35650346,  0.27239379,  0.08944552],\n",
              "       [-0.56776627,  0.80600783, -1.30289562, -1.07442394],\n",
              "       [ 2.14806547, -1.05401024,  1.73516253,  1.38263382],\n",
              "       [-1.15816448, -1.51901476, -0.29020957, -0.29851096],\n",
              "       [ 2.38422475,  1.73601687,  1.45386085,  0.99467733],\n",
              "       [ 0.96726906,  0.10850105,  0.32865413,  0.21876435],\n",
              "       [-0.80392556,  2.43352365, -1.30289562, -1.46238043],\n",
              "       [ 0.14071157, -0.12400121,  0.55369548,  0.73603967],\n",
              "       [-0.09544771,  2.20102139, -1.47167663, -1.3330616 ],\n",
              "       [ 2.14806547, -0.58900572,  1.62264186,  0.99467733],\n",
              "       [-0.9220052 ,  1.73601687, -1.30289562, -1.20374277],\n",
              "       [-1.39432376,  0.34100331, -1.24663528, -1.3330616 ],\n",
              "       [ 1.79382654, -0.58900572,  1.28507985,  0.8653585 ],\n",
              "       [-1.04008484,  0.57350557, -1.35915595, -1.3330616 ],\n",
              "       [ 0.49495049,  0.80600783,  1.00377816,  1.51195265],\n",
              "       [-0.21352735, -0.58900572,  0.15987312,  0.08944552],\n",
              "       [-0.09544771, -0.82150798,  0.04735245, -0.03987331],\n",
              "       [-0.21352735, -1.05401024, -0.1776889 , -0.29851096],\n",
              "       [ 0.61303014,  0.34100331,  0.83499716,  1.38263382],\n",
              "       [ 0.96726906, -0.12400121,  0.77873682,  1.38263382],\n",
              "       [ 0.49495049, -1.2865125 ,  0.60995581,  0.34808318],\n",
              "       [ 0.96726906, -0.12400121,  0.66621615,  0.60672084],\n",
              "       [-1.04008484, -0.12400121, -1.24663528, -1.3330616 ],\n",
              "       [-0.44968663, -1.51901476, -0.06516822, -0.29851096],\n",
              "       [ 0.96726906,  0.10850105,  1.00377816,  1.51195265],\n",
              "       [-0.09544771, -0.82150798,  0.72247648,  0.8653585 ],\n",
              "       [-0.9220052 ,  0.80600783, -1.30289562, -1.3330616 ],\n",
              "       [ 0.84918942, -0.35650346,  0.4411748 ,  0.08944552],\n",
              "       [-0.33160699, -0.12400121,  0.15987312,  0.08944552],\n",
              "       [ 0.02263193,  0.34100331,  0.55369548,  0.73603967],\n",
              "       [ 0.49495049, -1.75151702,  0.32865413,  0.08944552],\n",
              "       [-0.44968663,  1.03851009, -1.41541629, -1.3330616 ],\n",
              "       [-0.9220052 ,  1.50351461, -1.30289562, -1.07442394],\n",
              "       [-1.15816448,  0.10850105, -1.30289562, -1.46238043],\n",
              "       [ 0.49495049, -0.35650346,  1.00377816,  0.73603967],\n",
              "       [-0.09544771, -0.82150798,  0.15987312, -0.29851096],\n",
              "       [ 2.14806547,  1.73601687,  1.62264186,  1.25331499],\n",
              "       [-1.5124034 ,  0.34100331, -1.35915595, -1.3330616 ]])"
            ]
          },
          "metadata": {
            "tags": []
          },
          "execution_count": 104
        }
      ]
    },
    {
      "cell_type": "code",
      "metadata": {
        "colab": {
          "base_uri": "https://localhost:8080/"
        },
        "id": "Yh4jA1V2XtnN",
        "outputId": "e3aada3d-bca7-4c8f-a68e-375c91969d1e"
      },
      "source": [
        "x_test"
      ],
      "execution_count": null,
      "outputs": [
        {
          "output_type": "execute_result",
          "data": {
            "text/plain": [
              "array([[-0.09544771, -0.58900572,  0.72247648,  1.51195265],\n",
              "       [ 0.14071157, -1.98401928,  0.10361279, -0.29851096],\n",
              "       [-0.44968663,  2.66602591, -1.35915595, -1.3330616 ],\n",
              "       [ 1.6757469 , -0.35650346,  1.39760052,  0.73603967],\n",
              "       [-1.04008484,  0.80600783, -1.30289562, -1.3330616 ],\n",
              "       [ 0.49495049,  0.57350557,  1.22881951,  1.64127148],\n",
              "       [-1.04008484,  1.03851009, -1.41541629, -1.20374277],\n",
              "       [ 0.96726906,  0.10850105,  0.49743514,  0.34808318],\n",
              "       [ 1.0853487 , -0.58900572,  0.55369548,  0.21876435],\n",
              "       [ 0.25879121, -0.58900572,  0.10361279,  0.08944552],\n",
              "       [ 0.25879121, -1.05401024,  1.00377816,  0.21876435],\n",
              "       [ 0.61303014,  0.34100331,  0.38491447,  0.34808318],\n",
              "       [ 0.25879121, -0.58900572,  0.49743514, -0.03987331],\n",
              "       [ 0.73110978, -0.58900572,  0.4411748 ,  0.34808318],\n",
              "       [ 0.25879121, -0.35650346,  0.49743514,  0.21876435],\n",
              "       [-1.15816448,  0.10850105, -1.30289562, -1.46238043],\n",
              "       [ 0.14071157, -0.35650346,  0.38491447,  0.34808318],\n",
              "       [-0.44968663, -1.05401024,  0.32865413, -0.03987331],\n",
              "       [-1.27624412, -0.12400121, -1.35915595, -1.20374277],\n",
              "       [-0.56776627,  1.96851913, -1.41541629, -1.07442394],\n",
              "       [-0.33160699, -0.58900572,  0.60995581,  0.99467733],\n",
              "       [-0.33160699, -0.12400121,  0.38491447,  0.34808318],\n",
              "       [-1.27624412,  0.80600783, -1.07785427, -1.3330616 ],\n",
              "       [-1.74856268, -0.35650346, -1.35915595, -1.3330616 ],\n",
              "       [ 0.37687085, -0.58900572,  0.55369548,  0.73603967],\n",
              "       [-1.5124034 ,  1.27101235, -1.5841973 , -1.3330616 ],\n",
              "       [-0.9220052 ,  1.73601687, -1.07785427, -1.07442394],\n",
              "       [ 0.37687085, -0.35650346,  0.27239379,  0.08944552],\n",
              "       [-1.04008484, -1.75151702, -0.29020957, -0.29851096],\n",
              "       [-1.04008484,  0.80600783, -1.24663528, -1.07442394]])"
            ]
          },
          "metadata": {
            "tags": []
          },
          "execution_count": 105
        }
      ]
    },
    {
      "cell_type": "markdown",
      "metadata": {
        "id": "bqo-5T55Vnnl"
      },
      "source": [
        "## Training the SVM model on the Training set"
      ]
    },
    {
      "cell_type": "code",
      "metadata": {
        "colab": {
          "base_uri": "https://localhost:8080/"
        },
        "id": "Ri0Si-vaVd4I",
        "outputId": "62f4b710-658f-49c6-9cf2-902e13800abd"
      },
      "source": [
        "from sklearn.svm import SVC\r\n",
        "classifier = SVC(kernel = 'linear', random_state = 0)\r\n",
        "classifier.fit(x_train, y_train)"
      ],
      "execution_count": null,
      "outputs": [
        {
          "output_type": "execute_result",
          "data": {
            "text/plain": [
              "SVC(C=1.0, break_ties=False, cache_size=200, class_weight=None, coef0=0.0,\n",
              "    decision_function_shape='ovr', degree=3, gamma='scale', kernel='linear',\n",
              "    max_iter=-1, probability=False, random_state=0, shrinking=True, tol=0.001,\n",
              "    verbose=False)"
            ]
          },
          "metadata": {
            "tags": []
          },
          "execution_count": 106
        }
      ]
    },
    {
      "cell_type": "markdown",
      "metadata": {
        "id": "Da_4t95uX87c"
      },
      "source": [
        "## Predicting the Test set results"
      ]
    },
    {
      "cell_type": "code",
      "metadata": {
        "colab": {
          "base_uri": "https://localhost:8080/"
        },
        "id": "_BdWqx5XVwAw",
        "outputId": "113e9c08-054d-4e88-e66e-557905c0386b"
      },
      "source": [
        "y_pred = classifier.predict(x_test)\r\n",
        "print(np.concatenate((y_pred.reshape(len(y_pred),1), y_test.reshape(len(y_test),1)),1))"
      ],
      "execution_count": null,
      "outputs": [
        {
          "output_type": "stream",
          "text": [
            "[['Iris-virginica' 'Iris-virginica']\n",
            " ['Iris-versicolor' 'Iris-versicolor']\n",
            " ['Iris-setosa' 'Iris-setosa']\n",
            " ['Iris-virginica' 'Iris-virginica']\n",
            " ['Iris-setosa' 'Iris-setosa']\n",
            " ['Iris-virginica' 'Iris-virginica']\n",
            " ['Iris-setosa' 'Iris-setosa']\n",
            " ['Iris-versicolor' 'Iris-versicolor']\n",
            " ['Iris-versicolor' 'Iris-versicolor']\n",
            " ['Iris-versicolor' 'Iris-versicolor']\n",
            " ['Iris-virginica' 'Iris-virginica']\n",
            " ['Iris-versicolor' 'Iris-versicolor']\n",
            " ['Iris-versicolor' 'Iris-versicolor']\n",
            " ['Iris-versicolor' 'Iris-versicolor']\n",
            " ['Iris-versicolor' 'Iris-versicolor']\n",
            " ['Iris-setosa' 'Iris-setosa']\n",
            " ['Iris-versicolor' 'Iris-versicolor']\n",
            " ['Iris-versicolor' 'Iris-versicolor']\n",
            " ['Iris-setosa' 'Iris-setosa']\n",
            " ['Iris-setosa' 'Iris-setosa']\n",
            " ['Iris-virginica' 'Iris-virginica']\n",
            " ['Iris-versicolor' 'Iris-versicolor']\n",
            " ['Iris-setosa' 'Iris-setosa']\n",
            " ['Iris-setosa' 'Iris-setosa']\n",
            " ['Iris-virginica' 'Iris-virginica']\n",
            " ['Iris-setosa' 'Iris-setosa']\n",
            " ['Iris-setosa' 'Iris-setosa']\n",
            " ['Iris-versicolor' 'Iris-versicolor']\n",
            " ['Iris-versicolor' 'Iris-versicolor']\n",
            " ['Iris-setosa' 'Iris-setosa']]\n"
          ],
          "name": "stdout"
        }
      ]
    },
    {
      "cell_type": "code",
      "metadata": {
        "colab": {
          "base_uri": "https://localhost:8080/"
        },
        "id": "SX0xtEl8YBQU",
        "outputId": "35454007-c0b5-4ddc-bbf9-a2ed07996c6c"
      },
      "source": [
        "from sklearn.metrics import confusion_matrix, accuracy_score\r\n",
        "cm = confusion_matrix(y_test, y_pred)\r\n",
        "print(cm)\r\n",
        "accuracy_score(y_test, y_pred)"
      ],
      "execution_count": null,
      "outputs": [
        {
          "output_type": "stream",
          "text": [
            "[[11  0  0]\n",
            " [ 0 13  0]\n",
            " [ 0  0  6]]\n"
          ],
          "name": "stdout"
        },
        {
          "output_type": "execute_result",
          "data": {
            "text/plain": [
              "1.0"
            ]
          },
          "metadata": {
            "tags": []
          },
          "execution_count": 108
        }
      ]
    },
    {
      "cell_type": "markdown",
      "metadata": {
        "id": "t37QPTxebAvE"
      },
      "source": [
        "## Predicting a new result"
      ]
    },
    {
      "cell_type": "code",
      "metadata": {
        "colab": {
          "base_uri": "https://localhost:8080/"
        },
        "id": "wkOY3drGYGZm",
        "outputId": "ea31c7aa-f353-43f3-e853-899b8157a19d"
      },
      "source": [
        "print(classifier.predict(sc.transform([[4.8,3.4,2.5,2]])))"
      ],
      "execution_count": null,
      "outputs": [
        {
          "output_type": "stream",
          "text": [
            "['Iris-versicolor']\n"
          ],
          "name": "stdout"
        }
      ]
    },
    {
      "cell_type": "code",
      "metadata": {
        "colab": {
          "base_uri": "https://localhost:8080/"
        },
        "id": "dJRP1VMDbSs6",
        "outputId": "83175b2f-d257-4afe-eb8b-89312bb8cc72"
      },
      "source": [
        "print(classifier.predict(sc.transform([[4.8,3.4,2.5,3]])))"
      ],
      "execution_count": null,
      "outputs": [
        {
          "output_type": "stream",
          "text": [
            "['Iris-virginica']\n"
          ],
          "name": "stdout"
        }
      ]
    },
    {
      "cell_type": "code",
      "metadata": {
        "colab": {
          "base_uri": "https://localhost:8080/"
        },
        "id": "QjeeKSYAbX9v",
        "outputId": "5740f757-591d-4ad5-8d85-d486240788b6"
      },
      "source": [
        "print(classifier.predict(sc.transform([[4.8,4,2.5,0.8]])))"
      ],
      "execution_count": null,
      "outputs": [
        {
          "output_type": "stream",
          "text": [
            "['Iris-setosa']\n"
          ],
          "name": "stdout"
        }
      ]
    },
    {
      "cell_type": "markdown",
      "metadata": {
        "id": "fHchBx36pSPg"
      },
      "source": [
        "##Accuracy for Iris Dataset using SVM Algorithm is 100%"
      ]
    },
    {
      "cell_type": "code",
      "metadata": {
        "id": "1L71FAowbbZ9"
      },
      "source": [
        ""
      ],
      "execution_count": null,
      "outputs": []
    }
  ]
}